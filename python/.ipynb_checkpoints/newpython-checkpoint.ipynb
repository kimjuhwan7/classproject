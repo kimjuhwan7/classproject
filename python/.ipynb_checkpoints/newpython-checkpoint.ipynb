{
 "cells": [
  {
   "cell_type": "code",
   "execution_count": 1,
   "id": "64bc2de9",
   "metadata": {},
   "outputs": [],
   "source": [
    "#주석은 #을 쓴다"
   ]
  },
  {
   "cell_type": "code",
   "execution_count": 2,
   "id": "e79150d4",
   "metadata": {},
   "outputs": [],
   "source": [
    "# 숫자, 문자열, bool, 리스트, 튜플\n",
    "\n",
    "# type() => 데이터의 타입을 확인 함수\n"
   ]
  },
  {
   "cell_type": "code",
   "execution_count": 6,
   "id": "afdf43b0",
   "metadata": {},
   "outputs": [
    {
     "name": "stdout",
     "output_type": "stream",
     "text": [
      "<class 'str'>\n"
     ]
    }
   ],
   "source": [
    "print(type('Hello!!!'))"
   ]
  },
  {
   "cell_type": "code",
   "execution_count": 8,
   "id": "232c9682",
   "metadata": {},
   "outputs": [
    {
     "name": "stdout",
     "output_type": "stream",
     "text": [
      "<class 'int'>\n"
     ]
    }
   ],
   "source": [
    "print(type(100))"
   ]
  },
  {
   "cell_type": "code",
   "execution_count": 11,
   "id": "864348b3",
   "metadata": {},
   "outputs": [
    {
     "name": "stdout",
     "output_type": "stream",
     "text": [
      "<class 'float'>\n"
     ]
    }
   ],
   "source": [
    "print(type(3.14))"
   ]
  },
  {
   "cell_type": "code",
   "execution_count": 13,
   "id": "b1d5f4c8",
   "metadata": {},
   "outputs": [],
   "source": [
    "# str : 문자열 생성은 \"\" '' 로 만든다\n",
    "# \\문자를 통해서 \\\", \\', \\\\, \\t, \\n "
   ]
  },
  {
   "cell_type": "code",
   "execution_count": 25,
   "id": "3850508e",
   "metadata": {},
   "outputs": [
    {
     "name": "stdout",
     "output_type": "stream",
     "text": [
      "\" 안녕\"\t 하'세'요\n",
      "안녕하세요!\n"
     ]
    }
   ],
   "source": [
    "print(\"\\\" 안녕\\\"\\t 하\\'세\\'요\")\n",
    "print(\"안녕하세요!\")"
   ]
  },
  {
   "cell_type": "code",
   "execution_count": 27,
   "id": "eb358db8",
   "metadata": {},
   "outputs": [
    {
     "name": "stdout",
     "output_type": "stream",
     "text": [
      " 안녕하세요\n",
      "저는 손흥민 입니다.\n",
      "영국에서 축구를 합니다.\n",
      "경기에서 골을 넣고 싶습니다.\n"
     ]
    }
   ],
   "source": [
    "print(\"\"\" 안녕하세요\n",
    "저는 손흥민 입니다.\n",
    "영국에서 축구를 합니다.\n",
    "경기에서 골을 넣고 싶습니다.\"\"\")"
   ]
  },
  {
   "cell_type": "code",
   "execution_count": 32,
   "id": "af16a98a",
   "metadata": {},
   "outputs": [
    {
     "name": "stdout",
     "output_type": "stream",
     "text": [
      "안녕하세요\n",
      "저는 손흥민 입니다.\n",
      "영국에서 축구를 합니다.\n",
      "경기에서 골을 넣고 싶습니다.\n"
     ]
    }
   ],
   "source": [
    "print(\"\"\"\\\n",
    "안녕하세요\n",
    "저는 손흥민 입니다.\n",
    "영국에서 축구를 합니다.\n",
    "경기에서 골을 넣고 싶습니다.\\\n",
    "\"\"\")"
   ]
  },
  {
   "cell_type": "code",
   "execution_count": 34,
   "id": "698c4a5a",
   "metadata": {},
   "outputs": [
    {
     "name": "stdout",
     "output_type": "stream",
     "text": [
      "안녕하세요\n"
     ]
    }
   ],
   "source": [
    "print('안녕'+'하세요')"
   ]
  },
  {
   "cell_type": "code",
   "execution_count": 40,
   "id": "75acc2bd",
   "metadata": {},
   "outputs": [
    {
     "name": "stdout",
     "output_type": "stream",
     "text": [
      "안녕안녕안녕101010\n"
     ]
    }
   ],
   "source": [
    "print('안녕'*3+'10'*3)"
   ]
  },
  {
   "cell_type": "code",
   "execution_count": 43,
   "id": "337071b4",
   "metadata": {},
   "outputs": [],
   "source": [
    "#str =>문자들의 집합\n",
    "# 인뎃싱 사용 => 배열의 인덱스 처럼 사용"
   ]
  },
  {
   "cell_type": "code",
   "execution_count": 52,
   "id": "3f127ea0",
   "metadata": {},
   "outputs": [
    {
     "name": "stdout",
     "output_type": "stream",
     "text": [
      "안\n",
      "녕\n",
      "하\n",
      "세\n",
      "요\n"
     ]
    },
    {
     "ename": "IndexError",
     "evalue": "string index out of range",
     "output_type": "error",
     "traceback": [
      "\u001b[1;31m---------------------------------------------------------------------------\u001b[0m",
      "\u001b[1;31mIndexError\u001b[0m                                Traceback (most recent call last)",
      "\u001b[1;32m~\\AppData\\Local\\Temp\\ipykernel_6964\\2389228709.py\u001b[0m in \u001b[0;36m<module>\u001b[1;34m\u001b[0m\n\u001b[0;32m      4\u001b[0m \u001b[0mprint\u001b[0m\u001b[1;33m(\u001b[0m\u001b[1;34m'안녕하세요'\u001b[0m\u001b[1;33m[\u001b[0m\u001b[1;36m3\u001b[0m\u001b[1;33m]\u001b[0m\u001b[1;33m)\u001b[0m\u001b[1;33m\u001b[0m\u001b[1;33m\u001b[0m\u001b[0m\n\u001b[0;32m      5\u001b[0m \u001b[0mprint\u001b[0m\u001b[1;33m(\u001b[0m\u001b[1;34m'안녕하세요'\u001b[0m\u001b[1;33m[\u001b[0m\u001b[1;36m4\u001b[0m\u001b[1;33m]\u001b[0m\u001b[1;33m)\u001b[0m\u001b[1;33m\u001b[0m\u001b[1;33m\u001b[0m\u001b[0m\n\u001b[1;32m----> 6\u001b[1;33m \u001b[0mprint\u001b[0m\u001b[1;33m(\u001b[0m\u001b[1;34m'안녕하세요'\u001b[0m\u001b[1;33m[\u001b[0m\u001b[1;36m5\u001b[0m\u001b[1;33m]\u001b[0m\u001b[1;33m)\u001b[0m\u001b[1;33m\u001b[0m\u001b[1;33m\u001b[0m\u001b[0m\n\u001b[0m\u001b[0;32m      7\u001b[0m \u001b[0mprint\u001b[0m\u001b[1;33m(\u001b[0m\u001b[1;34m'안녕하세요'\u001b[0m\u001b[1;33m[\u001b[0m\u001b[1;36m6\u001b[0m\u001b[1;33m]\u001b[0m\u001b[1;33m)\u001b[0m\u001b[1;33m\u001b[0m\u001b[1;33m\u001b[0m\u001b[0m\n",
      "\u001b[1;31mIndexError\u001b[0m: string index out of range"
     ]
    }
   ],
   "source": [
    "print('안녕하세요'[0])\n",
    "print('안녕하세요'[1])\n",
    "print('안녕하세요'[2])\n",
    "print('안녕하세요'[3])\n",
    "print('안녕하세요'[4])\n",
    "print('안녕하세요'[5])\n",
    "print('안녕하세요'[6])"
   ]
  },
  {
   "cell_type": "code",
   "execution_count": 55,
   "id": "bf6fe628",
   "metadata": {},
   "outputs": [
    {
     "name": "stdout",
     "output_type": "stream",
     "text": [
      "요\n",
      "세\n",
      "하\n",
      "녕\n",
      "안\n"
     ]
    }
   ],
   "source": [
    "print('안녕하세요'[-1])\n",
    "print('안녕하세요'[-2])\n",
    "print('안녕하세요'[-3])\n",
    "print('안녕하세요'[-4])\n",
    "print('안녕하세요'[-5])"
   ]
  },
  {
   "cell_type": "code",
   "execution_count": 56,
   "id": "12c1ba36",
   "metadata": {},
   "outputs": [],
   "source": [
    "#[]=> 스라이싱 : 범위 선택\n",
    "#[ 시작 인덱스 : 종료 위치 ] => [1:4]->"
   ]
  },
  {
   "cell_type": "code",
   "execution_count": 58,
   "id": "507ccbc7",
   "metadata": {},
   "outputs": [
    {
     "name": "stdout",
     "output_type": "stream",
     "text": [
      "하세\n"
     ]
    }
   ],
   "source": [
    "print('안녕하세요'[2:4])"
   ]
  },
  {
   "cell_type": "code",
   "execution_count": 62,
   "id": "6bde5c93",
   "metadata": {},
   "outputs": [
    {
     "name": "stdout",
     "output_type": "stream",
     "text": [
      "세요\n"
     ]
    }
   ],
   "source": [
    "print('안녕하세요'[3:])"
   ]
  },
  {
   "cell_type": "code",
   "execution_count": 64,
   "id": "1b24b88e",
   "metadata": {},
   "outputs": [],
   "source": [
    "# 숫자 타입\n",
    "# 정수 int, 실수 float\n",
    "# 사칙연산 => +, -, *, /, %\n",
    "# 정수 나누기 : //\n",
    "# 제곱 연산 : **"
   ]
  },
  {
   "cell_type": "code",
   "execution_count": 71,
   "id": "c7944917",
   "metadata": {},
   "outputs": [
    {
     "name": "stdout",
     "output_type": "stream",
     "text": [
      "3\n",
      "3.3333333333333335\n",
      "3\n",
      "16\n"
     ]
    }
   ],
   "source": [
    "print(1+2)\n",
    "print(10/3)\n",
    "# 정수 결과만 나오는 나누기 연산\n",
    "print(10//3)\n",
    "# 제곱\n",
    "print(4**2)"
   ]
  },
  {
   "cell_type": "code",
   "execution_count": 72,
   "id": "74f6ad0f",
   "metadata": {},
   "outputs": [],
   "source": [
    "# 변수 사용\n",
    "# 변수 = 데이터"
   ]
  },
  {
   "cell_type": "code",
   "execution_count": 74,
   "id": "f8f31cfc",
   "metadata": {},
   "outputs": [],
   "source": [
    "pi =3.14\n",
    "r =2"
   ]
  },
  {
   "cell_type": "code",
   "execution_count": 79,
   "id": "dbee9dc3",
   "metadata": {},
   "outputs": [
    {
     "name": "stdout",
     "output_type": "stream",
     "text": [
      "원주율 :  3.14  반지름 :  2\n"
     ]
    }
   ],
   "source": [
    "print('원주율 : ',pi, ' 반지름 : ',r)"
   ]
  },
  {
   "cell_type": "code",
   "execution_count": 587,
   "id": "891accbb",
   "metadata": {},
   "outputs": [],
   "source": [
    "# 캐스팅 함수\n",
    "# 문자열 -> 정수 : int()\n",
    "# 문자열 -> 실수 : float()\n",
    "# 숫자 -> 문자열 : str()"
   ]
  },
  {
   "cell_type": "code",
   "execution_count": 588,
   "id": "987e75c0",
   "metadata": {},
   "outputs": [],
   "source": [
    "# 문자열을 다루는 함수\n",
    "# format()\n",
    "# upper() lower()  대문자, 소문자로 변경\n",
    "# strip() lstrip() rstrip()\n",
    "# find()  특정문자 추출\n",
    "# split() 점자를 가지고 배열을 만든다\n",
    "#is000\n",
    "# in 연산자"
   ]
  },
  {
   "cell_type": "code",
   "execution_count": 599,
   "id": "eded4cf3",
   "metadata": {},
   "outputs": [
    {
     "name": "stdout",
     "output_type": "stream",
     "text": [
      "100만원\n",
      "1stringTrue\n"
     ]
    }
   ],
   "source": [
    "# format : 문자열 포맷팅\n",
    "format_a = '{}만원'.format(100)\n",
    "print(format_a)\n",
    "format_b ='{}{}{}'.format(1,'string',True)\n",
    "print(format_b)"
   ]
  },
  {
   "cell_type": "code",
   "execution_count": 606,
   "id": "30fc205b",
   "metadata": {},
   "outputs": [
    {
     "name": "stdout",
     "output_type": "stream",
     "text": [
      "###    String   ###\n",
      "###String###\n",
      "###String   ###\n",
      "###    String###\n"
     ]
    }
   ],
   "source": [
    "# strip() \n",
    "str1 = '    String   '\n",
    "print('###'+str1+'###')\n",
    "print('###'+str1.strip()+'###')\n",
    "print('###'+str1.lstrip()+'###')\n",
    "print('###'+str1.rstrip()+'###')"
   ]
  },
  {
   "cell_type": "code",
   "execution_count": 610,
   "id": "0816d9bd",
   "metadata": {},
   "outputs": [
    {
     "name": "stdout",
     "output_type": "stream",
     "text": [
      "3\n"
     ]
    }
   ],
   "source": [
    "# find(): 문자열을 포함하는 위치 인덱스 반환\n",
    "str2 = '안녕하세요'.find('세')\n",
    "print(str2)"
   ]
  },
  {
   "cell_type": "code",
   "execution_count": 611,
   "id": "a2a57117",
   "metadata": {},
   "outputs": [
    {
     "name": "stdout",
     "output_type": "stream",
     "text": [
      "<class 'list'> ['1', '2', '3', '4', '5', '']\n"
     ]
    }
   ],
   "source": [
    "#split() : 문자열을 첨자로 나누고 각 나눠진 결과를 리스트로 반환\n",
    "list_1 = '1 2 3 4 5 '.split(' ')\n",
    "print(type(list_1),list_1)\n"
   ]
  },
  {
   "cell_type": "code",
   "execution_count": 617,
   "id": "6adf05c0",
   "metadata": {},
   "outputs": [
    {
     "name": "stdout",
     "output_type": "stream",
     "text": [
      "False\n",
      "True\n"
     ]
    }
   ],
   "source": [
    "# is000 : 문자열의 구성 파악 \n",
    "print('test123!'.isalnum())\n",
    "print('1000'.isdigit())"
   ]
  },
  {
   "cell_type": "code",
   "execution_count": 618,
   "id": "32af04c1",
   "metadata": {},
   "outputs": [
    {
     "name": "stdout",
     "output_type": "stream",
     "text": [
      "True\n",
      "False\n"
     ]
    }
   ],
   "source": [
    "# in 연산자\n",
    "print('안녕' in '안녕하세요')\n",
    "print('바이' in '안녕하세요')"
   ]
  },
  {
   "cell_type": "code",
   "execution_count": 624,
   "id": "92f62ae4",
   "metadata": {},
   "outputs": [
    {
     "name": "stdout",
     "output_type": "stream",
     "text": [
      "정수입력>>>i\n"
     ]
    },
    {
     "ename": "ValueError",
     "evalue": "invalid literal for int() with base 10: 'i'",
     "output_type": "error",
     "traceback": [
      "\u001b[1;31m---------------------------------------------------------------------------\u001b[0m",
      "\u001b[1;31mValueError\u001b[0m                                Traceback (most recent call last)",
      "\u001b[1;32m~\\AppData\\Local\\Temp\\ipykernel_6964\\574836546.py\u001b[0m in \u001b[0;36m<module>\u001b[1;34m\u001b[0m\n\u001b[0;32m      2\u001b[0m \u001b[1;31m# if\u001b[0m\u001b[1;33m\u001b[0m\u001b[1;33m\u001b[0m\u001b[0m\n\u001b[0;32m      3\u001b[0m \u001b[0mnum1\u001b[0m\u001b[1;33m=\u001b[0m \u001b[0minput\u001b[0m\u001b[1;33m(\u001b[0m\u001b[1;34m'정수입력>>>'\u001b[0m\u001b[1;33m)\u001b[0m\u001b[1;33m\u001b[0m\u001b[1;33m\u001b[0m\u001b[0m\n\u001b[1;32m----> 4\u001b[1;33m \u001b[0mnum2\u001b[0m\u001b[1;33m=\u001b[0m \u001b[0mint\u001b[0m \u001b[1;33m(\u001b[0m\u001b[0mnum1\u001b[0m\u001b[1;33m)\u001b[0m\u001b[1;33m\u001b[0m\u001b[1;33m\u001b[0m\u001b[0m\n\u001b[0m\u001b[0;32m      5\u001b[0m \u001b[1;33m\u001b[0m\u001b[0m\n\u001b[0;32m      6\u001b[0m \u001b[1;32mif\u001b[0m \u001b[0mnum2\u001b[0m\u001b[1;33m>\u001b[0m\u001b[1;36m0\u001b[0m\u001b[1;33m:\u001b[0m\u001b[1;33m\u001b[0m\u001b[1;33m\u001b[0m\u001b[0m\n",
      "\u001b[1;31mValueError\u001b[0m: invalid literal for int() with base 10: 'i'"
     ]
    }
   ],
   "source": [
    "# 흐름제어\n",
    "# if\n",
    "num1= input('정수입력>>>')\n",
    "num2= int (num1)\n",
    "\n",
    "if num2>0:\n",
    "    print('양수')\n",
    "elif num2<0:\n",
    "    print('음수')\n",
    "elif num2==0:\n",
    "    print('0')"
   ]
  },
  {
   "cell_type": "code",
   "execution_count": 629,
   "id": "19e7750a",
   "metadata": {},
   "outputs": [
    {
     "name": "stdout",
     "output_type": "stream",
     "text": [
      "공백 문자열은 False\n"
     ]
    }
   ],
   "source": [
    "if [] :\n",
    "    print('공백 문자열은 True')\n",
    "else : \n",
    "    print('공백 문자열은 False')"
   ]
  },
  {
   "cell_type": "code",
   "execution_count": 636,
   "id": "4873b239",
   "metadata": {},
   "outputs": [],
   "source": [
    "# pass 키워드\n",
    "num3 = 10\n",
    "if num3> 0:\n",
    "    pass\n",
    "else:\n",
    "    pass"
   ]
  },
  {
   "cell_type": "code",
   "execution_count": 656,
   "id": "f401b6a4",
   "metadata": {},
   "outputs": [
    {
     "name": "stdout",
     "output_type": "stream",
     "text": [
      "55\n",
      "문자열 열 문\n",
      "True\n",
      "참\n",
      "[False, False]\n"
     ]
    }
   ],
   "source": [
    "# list 자료형 : 배열과 비슷한 형태, 집합과 같이 데이터들을 묶어서 사용\n",
    "# 데이터들의 타입은 일치하지 않아도 된다\n",
    "# []사용, 인덱스값을 통해서 참조\n",
    "\n",
    "list_temp=[10,900,55,'문자열',True, False]\n",
    "\n",
    "print(list_temp[2])\n",
    "print(list_temp[3],list_temp[3][2],list_temp[3][:1])\n",
    "print(list_temp[-2])\n",
    "\n",
    "if list_temp[-2] :\n",
    "    print('참')\n",
    "    list_temp[-2]=False\n",
    "    \n",
    "print (list_temp[4:])"
   ]
  },
  {
   "cell_type": "code",
   "execution_count": 658,
   "id": "3891fc79",
   "metadata": {},
   "outputs": [],
   "source": [
    "# list 연산 : +, *"
   ]
  },
  {
   "cell_type": "code",
   "execution_count": 682,
   "id": "afe90ec8",
   "metadata": {},
   "outputs": [
    {
     "name": "stdout",
     "output_type": "stream",
     "text": [
      "[1, 2, 3]\n",
      "[4, 5, 6]\n",
      "[1, 2, 3, 4, 5, 6]\n",
      "list_a 리스트 요소의 개수  3\n",
      "[10, 1, 2, 3, 4]\n",
      "원본 리스트에 데이터를 추가 [4, 5, 6, 133, 500, 874]\n",
      "삭제 del [4, 5, 6, 133, 874]\n",
      "삭제 pop [4, 5, 6, 133]\n",
      "삭제 remove [4, 5, 6]\n",
      "[1, 4, 5, 6, 7]\n",
      "[6, 7]\n",
      "전제 삭제 []\n"
     ]
    }
   ],
   "source": [
    "# + 연산 : 리스트의 연결 => 새로운 리스트 생성\n",
    "list_1 = [1,2,3]\n",
    "list_2 = [4,5,6]\n",
    "print(list_1)\n",
    "print(list_2)\n",
    "print( list_1+list_2)\n",
    "print('list_a 리스트 요소의 개수 ',len(list_1))\n",
    "\n",
    "list_1.append(4)\n",
    "list_1.insert(0,10)\n",
    "\n",
    "print(list_1)\n",
    "\n",
    "list_2.extend([133,500,874])\n",
    "print('원본 리스트에 데이터를 추가',list_2)\n",
    "del list_2[4]\n",
    "print('삭제 del', list_2)\n",
    "\n",
    "list_2.pop(4)\n",
    "print('삭제 pop',list_2)\n",
    "\n",
    "list_2.remove(133)\n",
    "print('삭제 remove', list_2)\n",
    "\n",
    "list_3 = [1,2,3,4,5,6,7]\n",
    "del list_3[1:3]\n",
    "print(list_3)\n",
    "\n",
    "del list_3[:3]\n",
    "print(list_3)\n",
    "\n",
    "list_3.clear()\n",
    "print('전제 삭제', list_3)"
   ]
  },
  {
   "cell_type": "code",
   "execution_count": 689,
   "id": "0bf83c81",
   "metadata": {},
   "outputs": [
    {
     "name": "stdout",
     "output_type": "stream",
     "text": [
      "4\n",
      "5\n",
      "6\n"
     ]
    }
   ],
   "source": [
    "# for 반복문\n",
    "\n",
    "# for i in range(5):\n",
    "#     print(i)\n",
    "    \n",
    "for item in list_2:\n",
    "    print(item)"
   ]
  },
  {
   "cell_type": "code",
   "execution_count": null,
   "id": "0bad31e4",
   "metadata": {},
   "outputs": [],
   "source": []
  },
  {
   "cell_type": "code",
   "execution_count": null,
   "id": "ebeb13c7",
   "metadata": {},
   "outputs": [],
   "source": [
    "# 함수 : len, extent(), append(), inset(), del(), remove(), clear()"
   ]
  }
 ],
 "metadata": {
  "kernelspec": {
   "display_name": "Python 3 (ipykernel)",
   "language": "python",
   "name": "python3"
  },
  "language_info": {
   "codemirror_mode": {
    "name": "ipython",
    "version": 3
   },
   "file_extension": ".py",
   "mimetype": "text/x-python",
   "name": "python",
   "nbconvert_exporter": "python",
   "pygments_lexer": "ipython3",
   "version": "3.9.13"
  }
 },
 "nbformat": 4,
 "nbformat_minor": 5
}
