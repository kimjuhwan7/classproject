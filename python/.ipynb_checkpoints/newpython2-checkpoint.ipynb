{
 "cells": [
  {
   "cell_type": "markdown",
   "id": "305d565c",
   "metadata": {},
   "source": [
    "# 딕셔너리 : 리스트 처럼 데이터를 묶음으로 저장\n",
    "# 저장 : key, value 형식으로 저장\n",
    "# 참조 : key 값으로 참조\n",
    "\n",
    "dic_a= {}\n",
    "print(type(dic_a),dic_a)"
   ]
  },
  {
   "cell_type": "code",
   "execution_count": 7,
   "id": "d195de2b",
   "metadata": {},
   "outputs": [
    {
     "name": "stdout",
     "output_type": "stream",
     "text": [
      "[1, 2, 3, 4, 5, 1, 2, 3]\n",
      "{1, 2, 3, 4, 5}\n"
     ]
    }
   ],
   "source": [
    "dic_b = {1,2,3,4,5}\n",
    "list_a1 =[1,2,3,4,5,1,2,3]\n",
    "print(list_a1)\n",
    "print(dic_b)"
   ]
  },
  {
   "cell_type": "code",
   "execution_count": 14,
   "id": "195237c7",
   "metadata": {},
   "outputs": [
    {
     "name": "stdout",
     "output_type": "stream",
     "text": [
      "{'no': 7, 'name': '손흥민'}\n",
      "7\n",
      "손흥민\n"
     ]
    }
   ],
   "source": [
    "dic_c ={\n",
    "    'no': 7,\n",
    "    'name':'손흥민'\n",
    "\n",
    "}\n",
    "print(dic_c)\n",
    "print(dic_c['no'])\n",
    "print(dic_c['name'])"
   ]
  },
  {
   "cell_type": "code",
   "execution_count": 17,
   "id": "d8c9f3f5",
   "metadata": {},
   "outputs": [
    {
     "name": "stdout",
     "output_type": "stream",
     "text": [
      "{'no': 7, 'name': '손흥민', 'team': '토트넘'}\n"
     ]
    }
   ],
   "source": [
    "dic_c['team']='토트넘'\n",
    "print(dic_c)"
   ]
  },
  {
   "cell_type": "code",
   "execution_count": 30,
   "id": "6990fc12",
   "metadata": {},
   "outputs": [
    {
     "ename": "KeyError",
     "evalue": "'team'",
     "output_type": "error",
     "traceback": [
      "\u001b[1;31m---------------------------------------------------------------------------\u001b[0m",
      "\u001b[1;31mKeyError\u001b[0m                                  Traceback (most recent call last)",
      "\u001b[1;32m~\\AppData\\Local\\Temp\\ipykernel_5712\\1206774766.py\u001b[0m in \u001b[0;36m<module>\u001b[1;34m\u001b[0m\n\u001b[1;32m----> 1\u001b[1;33m \u001b[1;32mdel\u001b[0m \u001b[0mdic_c\u001b[0m\u001b[1;33m[\u001b[0m\u001b[1;34m'team'\u001b[0m\u001b[1;33m]\u001b[0m\u001b[1;33m\u001b[0m\u001b[1;33m\u001b[0m\u001b[0m\n\u001b[0m\u001b[0;32m      2\u001b[0m \u001b[0mprint\u001b[0m\u001b[1;33m(\u001b[0m\u001b[0mdic_c\u001b[0m\u001b[1;33m)\u001b[0m\u001b[1;33m\u001b[0m\u001b[1;33m\u001b[0m\u001b[0m\n",
      "\u001b[1;31mKeyError\u001b[0m: 'team'"
     ]
    }
   ],
   "source": [
    "del dic_c['team']\n",
    "print(dic_c)"
   ]
  },
  {
   "cell_type": "code",
   "execution_count": 36,
   "id": "c71271c9",
   "metadata": {},
   "outputs": [
    {
     "name": "stdout",
     "output_type": "stream",
     "text": [
      "None\n"
     ]
    }
   ],
   "source": [
    "print(dic_c.get('team'))"
   ]
  },
  {
   "cell_type": "code",
   "execution_count": 39,
   "id": "1f8e37dd",
   "metadata": {},
   "outputs": [
    {
     "name": "stdout",
     "output_type": "stream",
     "text": [
      "존재하지 않는 Key!!!\n"
     ]
    }
   ],
   "source": [
    "key = 'team'\n",
    "if key in dic_c:\n",
    "    print(dic_c[key])\n",
    "else:\n",
    "        print(\"존재하지 않는 Key!!!\")"
   ]
  },
  {
   "cell_type": "code",
   "execution_count": 40,
   "id": "babfb95b",
   "metadata": {},
   "outputs": [
    {
     "name": "stdout",
     "output_type": "stream",
     "text": [
      "존재하지 않는 Key!!!\n"
     ]
    }
   ],
   "source": [
    "key = 'team'\n",
    "if key in dic_c:\n",
    "    print(dic_c[key])\n",
    "else:\n",
    "    print(\"존재하지 않는 Key!!!\")"
   ]
  },
  {
   "cell_type": "code",
   "execution_count": 43,
   "id": "ce383473",
   "metadata": {},
   "outputs": [
    {
     "name": "stdout",
     "output_type": "stream",
     "text": [
      "None\n",
      "존재하지 않는 키\n"
     ]
    }
   ],
   "source": [
    "playerName = dic_c.get('team')\n",
    "\n",
    "print(playerName)\n",
    "\n",
    "if playerName ==None:\n",
    "    print('존재하지 않는 키')"
   ]
  },
  {
   "cell_type": "code",
   "execution_count": 46,
   "id": "9d582f24",
   "metadata": {},
   "outputs": [
    {
     "name": "stdout",
     "output_type": "stream",
     "text": [
      "no 7\n",
      "name 손흥민\n"
     ]
    }
   ],
   "source": [
    "for key in dic_c:\n",
    "    print(key, dic_c[key])"
   ]
  },
  {
   "cell_type": "code",
   "execution_count": null,
   "id": "b25635a4",
   "metadata": {},
   "outputs": [],
   "source": [
    "# range() : 특정 범위의 숫자를 생성\n",
    "# renge(n) : 0 ~ n-1 범위의 숫자 \n",
    "# range(index, n) : index ~ n-1\n",
    "# range(index, n , stop) : index ~ n-1, 증가하는 값은 step만큼 증가"
   ]
  },
  {
   "cell_type": "code",
   "execution_count": 48,
   "id": "21c0d35d",
   "metadata": {},
   "outputs": [
    {
     "name": "stdout",
     "output_type": "stream",
     "text": [
      "<class 'range'> range(3, 6)\n",
      "[3, 4, 5]\n",
      "반복\n",
      "반복\n",
      "반복\n"
     ]
    }
   ],
   "source": [
    "a= range(3,5+1)\n",
    "print(type(a),a)\n",
    "list_b=list(a)\n",
    "print(list_b)\n",
    "\n",
    "for i in a:\n",
    "    print('반복')"
   ]
  },
  {
   "cell_type": "code",
   "execution_count": 49,
   "id": "2c8bf46c",
   "metadata": {},
   "outputs": [
    {
     "name": "stdout",
     "output_type": "stream",
     "text": [
      "1 1\n",
      "7 2\n",
      "17 3\n",
      "99 4\n",
      "14 5\n"
     ]
    }
   ],
   "source": [
    "list_c=[1,7,17,99,14]\n",
    "\n",
    "cnt = 0;\n",
    "\n",
    "for item in list_c:\n",
    "    cnt+=1\n",
    "    print(item, cnt)"
   ]
  },
  {
   "cell_type": "code",
   "execution_count": 52,
   "id": "ee31cba5",
   "metadata": {},
   "outputs": [
    {
     "name": "stdout",
     "output_type": "stream",
     "text": [
      "5\n",
      "4\n",
      "3\n",
      "2\n",
      "1\n"
     ]
    }
   ],
   "source": [
    "for i in range(5,0,-1):\n",
    "    print(i)"
   ]
  },
  {
   "cell_type": "code",
   "execution_count": 53,
   "id": "49175ffb",
   "metadata": {},
   "outputs": [
    {
     "name": "stdout",
     "output_type": "stream",
     "text": [
      "1\n",
      "2\n",
      "3\n",
      "4\n",
      "5\n"
     ]
    }
   ],
   "source": [
    "for i in range(1,5+1):\n",
    "    print(i)"
   ]
  },
  {
   "cell_type": "code",
   "execution_count": 54,
   "id": "b2356ab4",
   "metadata": {},
   "outputs": [
    {
     "name": "stdout",
     "output_type": "stream",
     "text": [
      "0\n",
      "1\n",
      "2\n",
      "3\n",
      "4\n",
      "5\n",
      "6\n",
      "7\n",
      "8\n",
      "9\n"
     ]
    }
   ],
   "source": [
    "# while : 반복문 => 조건의 결과를 True로 하는 경우 사용\n",
    "\n",
    "i=0\n",
    "while i<10:\n",
    "    print(i)\n",
    "    i+=1"
   ]
  },
  {
   "cell_type": "code",
   "execution_count": 57,
   "id": "569c4734",
   "metadata": {},
   "outputs": [
    {
     "name": "stdout",
     "output_type": "stream",
     "text": [
      "[1, 2, 1, 2]\n",
      "[2, 2]\n"
     ]
    }
   ],
   "source": [
    "list_d = [1,2,1,2]\n",
    "print(list_d)\n",
    "# list_d.remove(1)\n",
    "\n",
    "while  1 in list_d:\n",
    "    list_d.remove(1)\n",
    "\n",
    "print(list_d)"
   ]
  },
  {
   "cell_type": "code",
   "execution_count": 68,
   "id": "c83f6a1a",
   "metadata": {},
   "outputs": [
    {
     "name": "stdout",
     "output_type": "stream",
     "text": [
      "안녕하세요\n"
     ]
    }
   ],
   "source": [
    "def aa():\n",
    "    print(\"안녕하세요\")\n",
    "    \n",
    "aa(11)"
   ]
  },
  {
   "cell_type": "code",
   "execution_count": null,
   "id": "acc20fb0",
   "metadata": {},
   "outputs": [],
   "source": []
  },
  {
   "cell_type": "code",
   "execution_count": null,
   "id": "91ef5299",
   "metadata": {},
   "outputs": [],
   "source": []
  },
  {
   "cell_type": "code",
   "execution_count": null,
   "id": "a1d7625f",
   "metadata": {},
   "outputs": [],
   "source": []
  },
  {
   "cell_type": "code",
   "execution_count": null,
   "id": "929e30c1",
   "metadata": {},
   "outputs": [],
   "source": []
  },
  {
   "cell_type": "code",
   "execution_count": null,
   "id": "fc77f9e4",
   "metadata": {},
   "outputs": [],
   "source": []
  },
  {
   "cell_type": "code",
   "execution_count": null,
   "id": "aa74c724",
   "metadata": {},
   "outputs": [],
   "source": []
  },
  {
   "cell_type": "code",
   "execution_count": null,
   "id": "32689984",
   "metadata": {},
   "outputs": [],
   "source": []
  },
  {
   "cell_type": "code",
   "execution_count": null,
   "id": "a10640d1",
   "metadata": {},
   "outputs": [],
   "source": []
  },
  {
   "cell_type": "code",
   "execution_count": null,
   "id": "fefb3454",
   "metadata": {},
   "outputs": [],
   "source": []
  },
  {
   "cell_type": "code",
   "execution_count": null,
   "id": "3c527732",
   "metadata": {},
   "outputs": [],
   "source": []
  },
  {
   "cell_type": "code",
   "execution_count": null,
   "id": "20255172",
   "metadata": {},
   "outputs": [],
   "source": []
  }
 ],
 "metadata": {
  "kernelspec": {
   "display_name": "Python 3 (ipykernel)",
   "language": "python",
   "name": "python3"
  },
  "language_info": {
   "codemirror_mode": {
    "name": "ipython",
    "version": 3
   },
   "file_extension": ".py",
   "mimetype": "text/x-python",
   "name": "python",
   "nbconvert_exporter": "python",
   "pygments_lexer": "ipython3",
   "version": "3.9.13"
  }
 },
 "nbformat": 4,
 "nbformat_minor": 5
}
