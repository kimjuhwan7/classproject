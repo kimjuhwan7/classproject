{
 "cells": [
  {
   "cell_type": "code",
   "execution_count": 1,
   "id": "79449861",
   "metadata": {},
   "outputs": [],
   "source": [
    "html = '''\n",
    "<html>\n",
    "<head>\n",
    "</head>\n",
    "<body>\n",
    "    <h1> 우리동네시장</h1>\n",
    "    <div class = 'sale'>\n",
    "        <p id='fruits1' class='fruits'>\n",
    "            <span class = 'name'> 바나나 </span>\n",
    "            <span class = 'price'> 3000원 </span>\n",
    "            <span class = 'inventory'> 500개 </span>\n",
    "            <span class = 'store'> 가나다상회 </span>\n",
    "            <a href = 'http://www.naver.com' > 홈페이지 </a>\n",
    "        </p>\n",
    "    </div>\n",
    "    <div class = 'prepare'>\n",
    "        <p id='fruits2' class='fruits'>\n",
    "            <span class ='name'> 파인애플 </span>\n",
    "        </p>\n",
    "    </div>\n",
    "</body>\n",
    "</html>\n",
    "'''"
   ]
  },
  {
   "cell_type": "code",
   "execution_count": 27,
   "id": "84ce146e",
   "metadata": {},
   "outputs": [],
   "source": [
    "import bs4"
   ]
  },
  {
   "cell_type": "code",
   "execution_count": 4,
   "id": "514c646e",
   "metadata": {},
   "outputs": [],
   "source": [
    "soup = bs4.BeautifulSoup(html)"
   ]
  },
  {
   "cell_type": "code",
   "execution_count": 7,
   "id": "3066332d",
   "metadata": {},
   "outputs": [
    {
     "name": "stdout",
     "output_type": "stream",
     "text": [
      "[<span class=\"name\"> 바나나 </span>, <span class=\"price\"> 3000원 </span>, <span class=\"inventory\"> 500개 </span>, <span class=\"store\"> 가나다상회 </span>, <span class=\"name\"> 파인애플 </span>]\n"
     ]
    }
   ],
   "source": [
    "#태그 이름으로 검색\n",
    "tags_span = soup.select('span')\n",
    "print(type(tags_span))\n",
    "print('------------------')\n",
    "print(tags_span)"
   ]
  },
  {
   "cell_type": "code",
   "execution_count": 9,
   "id": "5c8aaac0",
   "metadata": {},
   "outputs": [
    {
     "name": "stdout",
     "output_type": "stream",
     "text": [
      "== <span> 검색 ==\n",
      "<class 'bs4.element.ResultSet'>\n",
      "------------------\n",
      "[<span class=\"name\"> 바나나 </span>, <span class=\"price\"> 3000원 </span>, <span class=\"inventory\"> 500개 </span>, <span class=\"store\"> 가나다상회 </span>, <span class=\"name\"> 파인애플 </span>]\n",
      "\n",
      "== <p> 검색 ==\n",
      "[<p class=\"fruits\" id=\"fruits1\">\n",
      "<span class=\"name\"> 바나나 </span>\n",
      "<span class=\"price\"> 3000원 </span>\n",
      "<span class=\"inventory\"> 500개 </span>\n",
      "<span class=\"store\"> 가나다상회 </span>\n",
      "<a href=\"http://www.naver.com\"> 홈페이지 </a>\n",
      "</p>, <p class=\"fruits\" id=\"fruits2\">\n",
      "<span class=\"name\"> 파인애플 </span>\n",
      "</p>]\n"
     ]
    }
   ],
   "source": [
    "#태그 이름으로 검색\n",
    "print('== <span> 검색 ==')\n",
    "tags_span = soup.select('span')\n",
    "print(type(tags_span))\n",
    "print('------------------')\n",
    "print(tags_span)\n",
    "\n",
    "# <span>을 가진 태그를 찾아서 검색한 결과출력\n",
    "# for i in tags_span:\n",
    "#     print(i)\n",
    "\n",
    "print()\n",
    "print('== <p> 검색 ==')\n",
    "tags_p = soup.select('p')\n",
    "print(tags_p) "
   ]
  },
  {
   "cell_type": "code",
   "execution_count": 19,
   "id": "7d8748e4",
   "metadata": {},
   "outputs": [
    {
     "name": "stdout",
     "output_type": "stream",
     "text": [
      "[<p class=\"fruits\" id=\"fruits1\">\n",
      "<span class=\"name\"> 바나나 </span>\n",
      "<span class=\"price\"> 3000원 </span>\n",
      "<span class=\"inventory\"> 500개 </span>\n",
      "<span class=\"store\"> 가나다상회 </span>\n",
      "<a href=\"http://www.naver.com\"> 홈페이지 </a>\n",
      "</p>]\n",
      "[<span class=\"price\"> 3000원 </span>]\n"
     ]
    }
   ],
   "source": [
    "tags_id = soup.select('#fruits1')\n",
    "print(tags_id)\n",
    "\n",
    "tags_class = soup.select('.price')\n",
    "print(tags_class)"
   ]
  },
  {
   "cell_type": "code",
   "execution_count": 20,
   "id": "4230e078",
   "metadata": {},
   "outputs": [
    {
     "name": "stdout",
     "output_type": "stream",
     "text": [
      "== #id 검색 ==\n",
      "[<p class=\"fruits\" id=\"fruits1\">\n",
      "<span class=\"name\"> 바나나 </span>\n",
      "<span class=\"price\"> 3000원 </span>\n",
      "<span class=\"inventory\"> 500개 </span>\n",
      "<span class=\"store\"> 가나다상회 </span>\n",
      "<a href=\"http://www.naver.com\"> 홈페이지 </a>\n",
      "</p>]\n",
      "\n",
      "== .class 검색 ==\n",
      "[<span class=\"price\"> 3000원 </span>]\n"
     ]
    }
   ],
   "source": [
    "print('== #id 검색 ==')\n",
    "tags_id = soup.select('#fruits1')\n",
    "print(tags_id)\n",
    "\n",
    "print()\n",
    "\n",
    "print('== .class 검색 ==')\n",
    "tags_class = soup.select('.price')\n",
    "print(tags_class)"
   ]
  },
  {
   "cell_type": "code",
   "execution_count": 23,
   "id": "4f15d3ac",
   "metadata": {},
   "outputs": [
    {
     "name": "stdout",
     "output_type": "stream",
     "text": [
      "<span class=\"name\"> 바나나 </span>\n"
     ]
    }
   ],
   "source": [
    "# <span>중 0번째 출력\n",
    "tag_1 = tags_span[0]\n",
    "print(tag_1)"
   ]
  },
  {
   "cell_type": "code",
   "execution_count": 37,
   "id": "f12df862",
   "metadata": {},
   "outputs": [
    {
     "name": "stdout",
     "output_type": "stream",
     "text": [
      "[<a href=\"http://www.naver.com\"> 홈페이지 </a>]\n",
      "<a href=\"http://www.naver.com\"> 홈페이지 </a>\n",
      " 홈페이지 \n",
      "홈페이지\n",
      "http://www.naver.com\n"
     ]
    }
   ],
   "source": [
    "tags = soup.select('a')\n",
    "print(tags)\n",
    "tag = tags[0]\n",
    "print(tag)\n",
    "content = tag.text\n",
    "print(content)\n",
    "print(content.strip())\n",
    "\n",
    "link = tag ['href']\n",
    "print(link)"
   ]
  },
  {
   "cell_type": "code",
   "execution_count": 48,
   "id": "2d74dd2b",
   "metadata": {},
   "outputs": [
    {
     "ename": "ModuleNotFoundError",
     "evalue": "No module named 'selenium'",
     "output_type": "error",
     "traceback": [
      "\u001b[1;31m---------------------------------------------------------------------------\u001b[0m",
      "\u001b[1;31mModuleNotFoundError\u001b[0m                       Traceback (most recent call last)",
      "\u001b[1;32m~\\AppData\\Local\\Temp\\ipykernel_11960\\1698891545.py\u001b[0m in \u001b[0;36m<module>\u001b[1;34m\u001b[0m\n\u001b[1;32m----> 1\u001b[1;33m \u001b[1;32mimport\u001b[0m \u001b[0mselenium\u001b[0m\u001b[1;33m\u001b[0m\u001b[1;33m\u001b[0m\u001b[0m\n\u001b[0m",
      "\u001b[1;31mModuleNotFoundError\u001b[0m: No module named 'selenium'"
     ]
    }
   ],
   "source": [
    "import selenium"
   ]
  },
  {
   "cell_type": "code",
   "execution_count": 49,
   "id": "ba6e792b",
   "metadata": {},
   "outputs": [
    {
     "name": "stdout",
     "output_type": "stream",
     "text": [
      "Defaulting to user installation because normal site-packages is not writeable\n",
      "Requirement already satisfied: selenium in c:\\users\\cheoho-hi\\appdata\\roaming\\python\\python39\\site-packages (4.7.2)\n",
      "Requirement already satisfied: urllib3[socks]~=1.26 in c:\\programdata\\anaconda3\\lib\\site-packages (from selenium) (1.26.11)\n",
      "Requirement already satisfied: trio-websocket~=0.9 in c:\\users\\cheoho-hi\\appdata\\roaming\\python\\python39\\site-packages (from selenium) (0.9.2)\n",
      "Requirement already satisfied: trio~=0.17 in c:\\users\\cheoho-hi\\appdata\\roaming\\python\\python39\\site-packages (from selenium) (0.22.0)\n",
      "Requirement already satisfied: certifi>=2021.10.8 in c:\\programdata\\anaconda3\\lib\\site-packages (from selenium) (2022.9.14)\n",
      "Requirement already satisfied: idna in c:\\programdata\\anaconda3\\lib\\site-packages (from trio~=0.17->selenium) (3.3)\n",
      "Requirement already satisfied: async-generator>=1.9 in c:\\users\\cheoho-hi\\appdata\\roaming\\python\\python39\\site-packages (from trio~=0.17->selenium) (1.10)\n",
      "Requirement already satisfied: attrs>=19.2.0 in c:\\programdata\\anaconda3\\lib\\site-packages (from trio~=0.17->selenium) (21.4.0)\n",
      "Requirement already satisfied: cffi>=1.14 in c:\\programdata\\anaconda3\\lib\\site-packages (from trio~=0.17->selenium) (1.15.1)\n",
      "Requirement already satisfied: sortedcontainers in c:\\programdata\\anaconda3\\lib\\site-packages (from trio~=0.17->selenium) (2.4.0)\n",
      "Requirement already satisfied: outcome in c:\\users\\cheoho-hi\\appdata\\roaming\\python\\python39\\site-packages (from trio~=0.17->selenium) (1.2.0)\n",
      "Requirement already satisfied: exceptiongroup>=1.0.0rc9 in c:\\users\\cheoho-hi\\appdata\\roaming\\python\\python39\\site-packages (from trio~=0.17->selenium) (1.1.0)\n",
      "Requirement already satisfied: sniffio in c:\\programdata\\anaconda3\\lib\\site-packages (from trio~=0.17->selenium) (1.2.0)\n",
      "Requirement already satisfied: wsproto>=0.14 in c:\\users\\cheoho-hi\\appdata\\roaming\\python\\python39\\site-packages (from trio-websocket~=0.9->selenium) (1.2.0)\n",
      "Requirement already satisfied: PySocks!=1.5.7,<2.0,>=1.5.6 in c:\\programdata\\anaconda3\\lib\\site-packages (from urllib3[socks]~=1.26->selenium) (1.7.1)\n",
      "Requirement already satisfied: pycparser in c:\\programdata\\anaconda3\\lib\\site-packages (from cffi>=1.14->trio~=0.17->selenium) (2.21)\n",
      "Requirement already satisfied: h11<1,>=0.9.0 in c:\\users\\cheoho-hi\\appdata\\roaming\\python\\python39\\site-packages (from wsproto>=0.14->trio-websocket~=0.9->selenium) (0.14.0)\n",
      "Note: you may need to restart the kernel to use updated packages.\n"
     ]
    }
   ],
   "source": [
    "!pip install selenium"
   ]
  },
  {
   "cell_type": "code",
   "execution_count": 3,
   "id": "cd914281",
   "metadata": {},
   "outputs": [],
   "source": [
    "import selenium"
   ]
  },
  {
   "cell_type": "code",
   "execution_count": 51,
   "id": "f0373568",
   "metadata": {},
   "outputs": [],
   "source": [
    "url = 'https://www.melon.com/chart/index.htm'"
   ]
  },
  {
   "cell_type": "code",
   "execution_count": 33,
   "id": "ae2324bd",
   "metadata": {},
   "outputs": [],
   "source": [
    "import selenium\n",
    "import bs4\n",
    "from selenium import webdriver\n",
    "import pandas as pd\n"
   ]
  },
  {
   "cell_type": "code",
   "execution_count": 36,
   "id": "749f6bad",
   "metadata": {
    "scrolled": true
   },
   "outputs": [
    {
     "name": "stderr",
     "output_type": "stream",
     "text": [
      "C:\\Users\\cheoho-hi\\AppData\\Local\\Temp\\ipykernel_12112\\3871189154.py:3: DeprecationWarning: executable_path has been deprecated, please pass in a Service object\n",
      "  driver = webdriver.Chrome('/Users/cheoho-hi/Downloads/chromedriver')\n"
     ]
    },
    {
     "name": "stdout",
     "output_type": "stream",
     "text": [
      "Ditto   |   NewJeans\n",
      "OMG   |   NewJeans\n",
      "Hype boy   |   NewJeans\n",
      "사건의 지평선   |   윤하 (YOUNHA)\n",
      "ANTIFRAGILE   |   LE SSERAFIM (르세라핌)\n"
     ]
    }
   ],
   "source": [
    "import bs4\n",
    "\n",
    "driver = webdriver.Chrome('/Users/cheoho-hi/Downloads/chromedriver')\n",
    "driver.get(url)\n",
    "html = driver.page_source\n",
    "\n",
    "soup = bs4.BeautifulSoup(html)\n",
    "\n",
    "#print(soup)\n",
    "# tr을 찾고 div > span > a\n",
    "songs = soup.select('tr')[1:]\n",
    "\n",
    "\n",
    "for song in songs[:5]:\n",
    "    title = song.select('div.ellipsis.rank01 > span > a')[0].text\n",
    "    singer = song.select('div.ellipsis.rank02 > a')[0].text\n",
    "    print(title, singer, sep='   |   ')"
   ]
  },
  {
   "cell_type": "code",
   "execution_count": null,
   "id": "859cf9c4",
   "metadata": {},
   "outputs": [],
   "source": [
    "import pandas as pd"
   ]
  },
  {
   "cell_type": "code",
   "execution_count": 37,
   "id": "202614e0",
   "metadata": {},
   "outputs": [
    {
     "name": "stdout",
     "output_type": "stream",
     "text": [
      "[['Melon', 1, 'Ditto', 'NewJeans'], ['Melon', 2, 'OMG', 'NewJeans'], ['Melon', 3, 'Hype boy', 'NewJeans'], ['Melon', 4, '사건의 지평선', '윤하 (YOUNHA)'], ['Melon', 5, 'ANTIFRAGILE', 'LE SSERAFIM (르세라핌)'], ['Melon', 6, 'Candy', 'NCT DREAM'], ['Melon', 7, 'NOT SORRY (Feat. pH-1) (Prod. by Slom)', '이영지'], ['Melon', 8, 'Attention', 'NewJeans'], ['Melon', 9, 'After LIKE', 'IVE (아이브)'], ['Melon', 10, '사랑은 늘 도망가', '임영웅']]\n"
     ]
    }
   ],
   "source": [
    "song_data = []\n",
    "\n",
    "rank = 1\n",
    "\n",
    "songs = soup.select('tr')[1:]\n",
    "\n",
    "for song in songs:\n",
    "    title = song.select('div.rank01 > span > a')[0].text\n",
    "    singer = song.select('div.rank02 a')[0].text\n",
    "    song_data.append(['Melon', rank, title, singer])\n",
    "    rank +=1\n",
    "    \n",
    "print(song_data[:10])"
   ]
  },
  {
   "cell_type": "code",
   "execution_count": 40,
   "id": "773bc77f",
   "metadata": {},
   "outputs": [
    {
     "name": "stdout",
     "output_type": "stream",
     "text": [
      "      서비스   순위                타이틀                   가수\n",
      "0   Melon    1              Ditto             NewJeans\n",
      "1   Melon    2                OMG             NewJeans\n",
      "2   Melon    3           Hype boy             NewJeans\n",
      "3   Melon    4            사건의 지평선          윤하 (YOUNHA)\n",
      "4   Melon    5        ANTIFRAGILE   LE SSERAFIM (르세라핌)\n",
      "..    ...  ...                ...                  ...\n",
      "95  Melon   96            흩어지지 않게  엠씨더맥스 (M.C the MAX)\n",
      "96  Melon   97  이 소설의 끝을 다시 써보려 해                   테이\n",
      "97  Melon   98        Off My Face        Justin Bieber\n",
      "98  Melon   99           문 (Moon)            NCT DREAM\n",
      "99  Melon  100            인생은 뷰티풀                  김호중\n",
      "\n",
      "[100 rows x 4 columns]\n"
     ]
    }
   ],
   "source": [
    "pd_data = pd.DataFrame(song_data, columns = ['서비스','순위','타이틀','가수'])\n",
    "print(pd_data)"
   ]
  }
 ],
 "metadata": {
  "kernelspec": {
   "display_name": "Python 3 (ipykernel)",
   "language": "python",
   "name": "python3"
  },
  "language_info": {
   "codemirror_mode": {
    "name": "ipython",
    "version": 3
   },
   "file_extension": ".py",
   "mimetype": "text/x-python",
   "name": "python",
   "nbconvert_exporter": "python",
   "pygments_lexer": "ipython3",
   "version": "3.9.13"
  }
 },
 "nbformat": 4,
 "nbformat_minor": 5
}
