{
 "cells": [
  {
   "cell_type": "code",
   "execution_count": 10,
   "id": "4c5ed4b3",
   "metadata": {},
   "outputs": [
    {
     "name": "stdout",
     "output_type": "stream",
     "text": [
      "abcdefg\n",
      "test String\n"
     ]
    }
   ],
   "source": [
    "f= open('test.txt','r',encoding='utf=8')\n",
    "data = f.read()\n",
    "print(data)\n",
    "f.close()"
   ]
  },
  {
   "cell_type": "code",
   "execution_count": 14,
   "id": "051fcad6",
   "metadata": {},
   "outputs": [
    {
     "name": "stdout",
     "output_type": "stream",
     "text": [
      "이름,전화번호,등번호\n",
      "손흥민,010-1111-2222,7\n",
      "이강인,010-1111-2223,19\n",
      "김민재,010-1111-2224,20\n",
      "\n"
     ]
    }
   ],
   "source": [
    "f= open('list.csv','r')\n",
    "data = f.read()\n",
    "print(data)\n",
    "f.close()"
   ]
  },
  {
   "cell_type": "code",
   "execution_count": 29,
   "id": "72b2c8d2",
   "metadata": {},
   "outputs": [
    {
     "name": "stdout",
     "output_type": "stream",
     "text": [
      "<class '_csv.reader'> <_csv.reader object at 0x00000246C65E52E0>\n",
      "<class 'list'> ['손흥민', '010-1111-2222', '7']\n"
     ]
    }
   ],
   "source": [
    "import csv\n",
    "\n",
    "f = open('list.csv' ,'r')\n",
    "data = csv.reader(f)\n",
    "print(type(data),data)\n",
    "for item in data :\n",
    "    if'손흥민' in item:\n",
    "        print(type(item),item)\n",
    "f.close()"
   ]
  },
  {
   "cell_type": "code",
   "execution_count": 44,
   "id": "8698db5b",
   "metadata": {},
   "outputs": [
    {
     "name": "stdout",
     "output_type": "stream",
     "text": [
      "<class 'dict'>\n",
      "\n",
      "\n",
      "{'todos': [{'id': 1, 'title': 'json-server ', 'writer': 'jin test', 'complete': True}, {'title': '오늘 처음 해야할일 수정', 'writer': '손흥민 수정', 'complete': True, 'id': 2}], 'member': [{'id': 'user00', 'pw': '1111'}]}\n"
     ]
    }
   ],
   "source": [
    "import json\n",
    "\n",
    "f = open('db.json','r',encoding='utf=8')\n",
    "data = f.read()\n",
    "#print(data)\n",
    "obj = json.loads(data)\n",
    "print(type(obj))\n",
    "print(\"\\n\")\n",
    "print(obj)\n",
    "\n"
   ]
  },
  {
   "cell_type": "code",
   "execution_count": 45,
   "id": "b683f9fe",
   "metadata": {},
   "outputs": [
    {
     "name": "stdout",
     "output_type": "stream",
     "text": [
      "<class 'str'>\n",
      "{\"todos\": [{\"id\": 1, \"title\": \"json-server \", \"writer\": \"jin test\", \"complete\": true}, {\"title\": \"\\uc624\\ub298 \\ucc98\\uc74c \\ud574\\uc57c\\ud560\\uc77c \\uc218\\uc815\", \"writer\": \"\\uc190\\ud765\\ubbfc \\uc218\\uc815\", \"complete\": true, \"id\": 2}], \"member\": [{\"id\": \"user00\", \"pw\": \"1111\"}]}\n"
     ]
    }
   ],
   "source": [
    "json_str = json.dumps(obj)\n",
    "print(type(json_str))\n",
    "print(json_str)"
   ]
  }
 ],
 "metadata": {
  "kernelspec": {
   "display_name": "Python 3 (ipykernel)",
   "language": "python",
   "name": "python3"
  },
  "language_info": {
   "codemirror_mode": {
    "name": "ipython",
    "version": 3
   },
   "file_extension": ".py",
   "mimetype": "text/x-python",
   "name": "python",
   "nbconvert_exporter": "python",
   "pygments_lexer": "ipython3",
   "version": "3.9.13"
  }
 },
 "nbformat": 4,
 "nbformat_minor": 5
}
