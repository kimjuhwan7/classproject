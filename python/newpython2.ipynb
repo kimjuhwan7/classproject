{
 "cells": [
  {
   "cell_type": "markdown",
   "id": "1a004057",
   "metadata": {},
   "source": [
    "# 딕셔너리 : 리스트 처럼 데이터를 묶음으로 저장\n",
    "# 저장 : key, value 형식으로 저장\n",
    "# 참조 : key 값으로 참조\n",
    "\n",
    "dic_a= {}\n",
    "print(type(dic_a),dic_a)"
   ]
  },
  {
   "cell_type": "code",
   "execution_count": 7,
   "id": "3678afd4",
   "metadata": {},
   "outputs": [
    {
     "name": "stdout",
     "output_type": "stream",
     "text": [
      "[1, 2, 3, 4, 5, 1, 2, 3]\n",
      "{1, 2, 3, 4, 5}\n"
     ]
    }
   ],
   "source": [
    "dic_b = {1,2,3,4,5}\n",
    "list_a1 =[1,2,3,4,5,1,2,3]\n",
    "print(list_a1)\n",
    "print(dic_b)"
   ]
  },
  {
   "cell_type": "code",
   "execution_count": 14,
   "id": "aae7f4aa",
   "metadata": {},
   "outputs": [
    {
     "name": "stdout",
     "output_type": "stream",
     "text": [
      "{'no': 7, 'name': '손흥민'}\n",
      "7\n",
      "손흥민\n"
     ]
    }
   ],
   "source": [
    "dic_c ={\n",
    "    'no': 7,\n",
    "    'name':'손흥민'\n",
    "\n",
    "}\n",
    "print(dic_c)\n",
    "print(dic_c['no'])\n",
    "print(dic_c['name'])"
   ]
  },
  {
   "cell_type": "code",
   "execution_count": 17,
   "id": "bda8fb25",
   "metadata": {},
   "outputs": [
    {
     "name": "stdout",
     "output_type": "stream",
     "text": [
      "{'no': 7, 'name': '손흥민', 'team': '토트넘'}\n"
     ]
    }
   ],
   "source": [
    "dic_c['team']='토트넘'\n",
    "print(dic_c)"
   ]
  },
  {
   "cell_type": "code",
   "execution_count": 30,
   "id": "eabfa694",
   "metadata": {},
   "outputs": [
    {
     "ename": "KeyError",
     "evalue": "'team'",
     "output_type": "error",
     "traceback": [
      "\u001b[1;31m---------------------------------------------------------------------------\u001b[0m",
      "\u001b[1;31mKeyError\u001b[0m                                  Traceback (most recent call last)",
      "\u001b[1;32m~\\AppData\\Local\\Temp\\ipykernel_5712\\1206774766.py\u001b[0m in \u001b[0;36m<module>\u001b[1;34m\u001b[0m\n\u001b[1;32m----> 1\u001b[1;33m \u001b[1;32mdel\u001b[0m \u001b[0mdic_c\u001b[0m\u001b[1;33m[\u001b[0m\u001b[1;34m'team'\u001b[0m\u001b[1;33m]\u001b[0m\u001b[1;33m\u001b[0m\u001b[1;33m\u001b[0m\u001b[0m\n\u001b[0m\u001b[0;32m      2\u001b[0m \u001b[0mprint\u001b[0m\u001b[1;33m(\u001b[0m\u001b[0mdic_c\u001b[0m\u001b[1;33m)\u001b[0m\u001b[1;33m\u001b[0m\u001b[1;33m\u001b[0m\u001b[0m\n",
      "\u001b[1;31mKeyError\u001b[0m: 'team'"
     ]
    }
   ],
   "source": [
    "del dic_c['team']\n",
    "print(dic_c)"
   ]
  },
  {
   "cell_type": "code",
   "execution_count": 36,
   "id": "6ee1d83e",
   "metadata": {},
   "outputs": [
    {
     "name": "stdout",
     "output_type": "stream",
     "text": [
      "None\n"
     ]
    }
   ],
   "source": [
    "print(dic_c.get('team'))"
   ]
  },
  {
   "cell_type": "code",
   "execution_count": 39,
   "id": "fd0336e2",
   "metadata": {},
   "outputs": [
    {
     "name": "stdout",
     "output_type": "stream",
     "text": [
      "존재하지 않는 Key!!!\n"
     ]
    }
   ],
   "source": [
    "key = 'team'\n",
    "if key in dic_c:\n",
    "    print(dic_c[key])\n",
    "else:\n",
    "        print(\"존재하지 않는 Key!!!\")"
   ]
  },
  {
   "cell_type": "code",
   "execution_count": 40,
   "id": "ab03b18a",
   "metadata": {},
   "outputs": [
    {
     "name": "stdout",
     "output_type": "stream",
     "text": [
      "존재하지 않는 Key!!!\n"
     ]
    }
   ],
   "source": [
    "key = 'team'\n",
    "if key in dic_c:\n",
    "    print(dic_c[key])\n",
    "else:\n",
    "    print(\"존재하지 않는 Key!!!\")"
   ]
  },
  {
   "cell_type": "code",
   "execution_count": 43,
   "id": "dca44baf",
   "metadata": {},
   "outputs": [
    {
     "name": "stdout",
     "output_type": "stream",
     "text": [
      "None\n",
      "존재하지 않는 키\n"
     ]
    }
   ],
   "source": [
    "playerName = dic_c.get('team')\n",
    "\n",
    "print(playerName)\n",
    "\n",
    "if playerName ==None:\n",
    "    print('존재하지 않는 키')"
   ]
  },
  {
   "cell_type": "code",
   "execution_count": 46,
   "id": "049e676d",
   "metadata": {},
   "outputs": [
    {
     "name": "stdout",
     "output_type": "stream",
     "text": [
      "no 7\n",
      "name 손흥민\n"
     ]
    }
   ],
   "source": [
    "for key in dic_c:\n",
    "    print(key, dic_c[key])"
   ]
  },
  {
   "cell_type": "code",
   "execution_count": null,
   "id": "761438ef",
   "metadata": {},
   "outputs": [],
   "source": [
    "# range() : 특정 범위의 숫자를 생성\n",
    "# renge(n) : 0 ~ n-1 범위의 숫자 \n",
    "# range(index, n) : index ~ n-1\n",
    "# range(index, n , stop) : index ~ n-1, 증가하는 값은 step만큼 증가"
   ]
  },
  {
   "cell_type": "code",
   "execution_count": 48,
   "id": "18659157",
   "metadata": {},
   "outputs": [
    {
     "name": "stdout",
     "output_type": "stream",
     "text": [
      "<class 'range'> range(3, 6)\n",
      "[3, 4, 5]\n",
      "반복\n",
      "반복\n",
      "반복\n"
     ]
    }
   ],
   "source": [
    "a= range(3,5+1)\n",
    "print(type(a),a)\n",
    "list_b=list(a)\n",
    "print(list_b)\n",
    "\n",
    "for i in a:\n",
    "    print('반복')"
   ]
  },
  {
   "cell_type": "code",
   "execution_count": 49,
   "id": "66955949",
   "metadata": {},
   "outputs": [
    {
     "name": "stdout",
     "output_type": "stream",
     "text": [
      "1 1\n",
      "7 2\n",
      "17 3\n",
      "99 4\n",
      "14 5\n"
     ]
    }
   ],
   "source": [
    "list_c=[1,7,17,99,14]\n",
    "\n",
    "cnt = 0;\n",
    "\n",
    "for item in list_c:\n",
    "    cnt+=1\n",
    "    print(item, cnt)"
   ]
  },
  {
   "cell_type": "code",
   "execution_count": 52,
   "id": "bc9220bb",
   "metadata": {},
   "outputs": [
    {
     "name": "stdout",
     "output_type": "stream",
     "text": [
      "5\n",
      "4\n",
      "3\n",
      "2\n",
      "1\n"
     ]
    }
   ],
   "source": [
    "for i in range(5,0,-1):\n",
    "    print(i)"
   ]
  },
  {
   "cell_type": "code",
   "execution_count": 53,
   "id": "4cef78dc",
   "metadata": {},
   "outputs": [
    {
     "name": "stdout",
     "output_type": "stream",
     "text": [
      "1\n",
      "2\n",
      "3\n",
      "4\n",
      "5\n"
     ]
    }
   ],
   "source": [
    "for i in range(1,5+1):\n",
    "    print(i)"
   ]
  },
  {
   "cell_type": "code",
   "execution_count": 54,
   "id": "7fa71b71",
   "metadata": {},
   "outputs": [
    {
     "name": "stdout",
     "output_type": "stream",
     "text": [
      "0\n",
      "1\n",
      "2\n",
      "3\n",
      "4\n",
      "5\n",
      "6\n",
      "7\n",
      "8\n",
      "9\n"
     ]
    }
   ],
   "source": [
    "# while : 반복문 => 조건의 결과를 True로 하는 경우 사용\n",
    "\n",
    "i=0\n",
    "while i<10:\n",
    "    print(i)\n",
    "    i+=1"
   ]
  },
  {
   "cell_type": "code",
   "execution_count": 57,
   "id": "53efc181",
   "metadata": {},
   "outputs": [
    {
     "name": "stdout",
     "output_type": "stream",
     "text": [
      "[1, 2, 1, 2]\n",
      "[2, 2]\n"
     ]
    }
   ],
   "source": [
    "list_d = [1,2,1,2]\n",
    "print(list_d)\n",
    "# list_d.remove(1)\n",
    "\n",
    "while  1 in list_d:\n",
    "    list_d.remove(1)\n",
    "\n",
    "print(list_d)"
   ]
  },
  {
   "cell_type": "code",
   "execution_count": 94,
   "id": "3d3a612e",
   "metadata": {},
   "outputs": [
    {
     "name": "stdout",
     "output_type": "stream",
     "text": [
      "안녕하세요 안녕하세요 안녕하세요 안녕하세요 안녕하세요 안녕하세요 안녕하세요 안녕하세요 안녕하세요 안녕하세요 안녕하세요 \n"
     ]
    }
   ],
   "source": [
    "def aa(i):\n",
    "    print(\"안녕하세요 \"*i)\n",
    "    \n",
    "aa(11)"
   ]
  },
  {
   "cell_type": "code",
   "execution_count": 95,
   "id": "1bcf2e9d",
   "metadata": {},
   "outputs": [],
   "source": [
    "# 함수 : input ->  처리 -> return\n",
    "# 매개변수 처리 => 가변 매개변수, 매개변수의 기본 값\n",
    "# def 함수이름() : ...return"
   ]
  },
  {
   "cell_type": "code",
   "execution_count": 100,
   "id": "f2764381",
   "metadata": {},
   "outputs": [
    {
     "name": "stdout",
     "output_type": "stream",
     "text": [
      "안녕!!!\n",
      "안녕!!!\n",
      "안녕!!!\n"
     ]
    }
   ],
   "source": [
    "def print_3():\n",
    "    print('안녕!!!')\n",
    "    print('안녕!!!')\n",
    "    print('안녕!!!')\n",
    "print_3()"
   ]
  },
  {
   "cell_type": "code",
   "execution_count": 103,
   "id": "9efbf353",
   "metadata": {},
   "outputs": [
    {
     "name": "stdout",
     "output_type": "stream",
     "text": [
      "Hello~!!!\n",
      "Hello~!!!\n",
      "Hello~!!!\n",
      "Hello~!!!\n"
     ]
    }
   ],
   "source": [
    "def print_times(value, n):\n",
    "    for i in range(n):\n",
    "        print(value)\n",
    "        \n",
    "print_times('Hello~!!!',4)\n"
   ]
  },
  {
   "cell_type": "code",
   "execution_count": 120,
   "id": "7bf75c08",
   "metadata": {},
   "outputs": [
    {
     "name": "stdout",
     "output_type": "stream",
     "text": [
      "a\n",
      "b\n",
      "c\n",
      "\n",
      "a\n",
      "b\n",
      "c\n",
      "\n",
      "a\n",
      "b\n",
      "c\n",
      "\n",
      "a\n",
      "b\n",
      "c\n",
      "\n",
      "a\n",
      "b\n",
      "c\n",
      "\n"
     ]
    }
   ],
   "source": [
    "def print_n_times(*values,n=2):\n",
    "    for i in range(n):\n",
    "        for value in values:\n",
    "            print(value)\n",
    "        print()\n",
    "        \n",
    "\n",
    "print_n_times('a','b','c',n=5)"
   ]
  },
  {
   "cell_type": "code",
   "execution_count": 142,
   "id": "38901e61",
   "metadata": {},
   "outputs": [
    {
     "name": "stdout",
     "output_type": "stream",
     "text": [
      "5050\n",
      "55\n",
      "550\n"
     ]
    }
   ],
   "source": [
    "def sum_all(start=0,end=100,step=1):\n",
    "    output = 0\n",
    "    for i in range(start,end+1,step):\n",
    "        output+=i\n",
    "    return output\n",
    "\n",
    "print(sum_all())\n",
    "print(sum_all(end=10))\n",
    "print(sum_all(end=100,step=10))"
   ]
  },
  {
   "cell_type": "code",
   "execution_count": null,
   "id": "0fcdbbc7",
   "metadata": {},
   "outputs": [],
   "source": []
  },
  {
   "cell_type": "code",
   "execution_count": null,
   "id": "7e66c756",
   "metadata": {},
   "outputs": [],
   "source": []
  },
  {
   "cell_type": "code",
   "execution_count": null,
   "id": "6cfa76ca",
   "metadata": {},
   "outputs": [],
   "source": []
  },
  {
   "cell_type": "code",
   "execution_count": null,
   "id": "be68e304",
   "metadata": {},
   "outputs": [],
   "source": []
  },
  {
   "cell_type": "code",
   "execution_count": null,
   "id": "2b71d4c7",
   "metadata": {},
   "outputs": [],
   "source": []
  },
  {
   "cell_type": "code",
   "execution_count": null,
   "id": "72c0cc8f",
   "metadata": {},
   "outputs": [],
   "source": []
  }
 ],
 "metadata": {
  "kernelspec": {
   "display_name": "Python 3 (ipykernel)",
   "language": "python",
   "name": "python3"
  },
  "language_info": {
   "codemirror_mode": {
    "name": "ipython",
    "version": 3
   },
   "file_extension": ".py",
   "mimetype": "text/x-python",
   "name": "python",
   "nbconvert_exporter": "python",
   "pygments_lexer": "ipython3",
   "version": "3.9.13"
  }
 },
 "nbformat": 4,
 "nbformat_minor": 5
}
